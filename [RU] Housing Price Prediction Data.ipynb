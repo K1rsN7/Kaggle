{
 "cells": [
  {
   "attachments": {},
   "cell_type": "markdown",
   "id": "c728a8c8-1db6-4a5e-b4cd-e6f397174551",
   "metadata": {},
   "source": [
    "<div align='center'>\n",
    "    <img src='https://images.adsttc.com/media/images/5ecd/d4ac/b357/65c6/7300/009d/large_jpg/02C.jpg?1590547607'\n",
    "</div>"
   ]
  },
  {
   "cell_type": "markdown",
   "id": "29968906-9bfa-45bb-bad7-22916e5eb8a1",
   "metadata": {},
   "source": [
    "Решение соревнования: https://www.kaggle.com/datasets/muhammadbinimran/housing-price-prediction-data"
   ]
  },
  {
   "cell_type": "markdown",
   "id": "5dc468f0-019b-47a7-bf8c-947d0bd49555",
   "metadata": {},
   "source": [
    "# 1. Импортируем необходимые библиотеки и загружаем данные."
   ]
  },
  {
   "cell_type": "code",
   "execution_count": 1,
   "id": "cc46c4a2-07de-4824-a1b3-9828d33e1a91",
   "metadata": {},
   "outputs": [],
   "source": [
    "import pandas as pd\n",
    "import matplotlib.pyplot as plt\n",
    "import seaborn as sns\n",
    "from sklearn.model_selection import train_test_split\n",
    "from sklearn.preprocessing import LabelEncoder\n",
    "from sklearn.linear_model import LinearRegression\n",
    "from sklearn.metrics import r2_score, mean_squared_error\n",
    "from sklearn.ensemble import RandomForestRegressor\n",
    "from sklearn.neighbors import KNeighborsRegressor\n",
    "from sklearn.neural_network import MLPRegressor\n",
    "from sklearn.model_selection import GridSearchCV\n",
    "from xgboost import XGBRegressor\n",
    "import warnings\n",
    "warnings.filterwarnings(\"ignore\")"
   ]
  },
  {
   "cell_type": "code",
   "execution_count": 2,
   "id": "b6a323b1-4f13-44a5-b4a8-36495a8d422d",
   "metadata": {},
   "outputs": [
    {
     "data": {
      "text/html": [
       "<div>\n",
       "<style scoped>\n",
       "    .dataframe tbody tr th:only-of-type {\n",
       "        vertical-align: middle;\n",
       "    }\n",
       "\n",
       "    .dataframe tbody tr th {\n",
       "        vertical-align: top;\n",
       "    }\n",
       "\n",
       "    .dataframe thead th {\n",
       "        text-align: right;\n",
       "    }\n",
       "</style>\n",
       "<table border=\"1\" class=\"dataframe\">\n",
       "  <thead>\n",
       "    <tr style=\"text-align: right;\">\n",
       "      <th></th>\n",
       "      <th>SquareFeet</th>\n",
       "      <th>Bedrooms</th>\n",
       "      <th>Bathrooms</th>\n",
       "      <th>Neighborhood</th>\n",
       "      <th>YearBuilt</th>\n",
       "      <th>Price</th>\n",
       "    </tr>\n",
       "  </thead>\n",
       "  <tbody>\n",
       "    <tr>\n",
       "      <th>0</th>\n",
       "      <td>2126</td>\n",
       "      <td>4</td>\n",
       "      <td>1</td>\n",
       "      <td>Rural</td>\n",
       "      <td>1969</td>\n",
       "      <td>215355.283618</td>\n",
       "    </tr>\n",
       "    <tr>\n",
       "      <th>1</th>\n",
       "      <td>2459</td>\n",
       "      <td>3</td>\n",
       "      <td>2</td>\n",
       "      <td>Rural</td>\n",
       "      <td>1980</td>\n",
       "      <td>195014.221626</td>\n",
       "    </tr>\n",
       "    <tr>\n",
       "      <th>2</th>\n",
       "      <td>1860</td>\n",
       "      <td>2</td>\n",
       "      <td>1</td>\n",
       "      <td>Suburb</td>\n",
       "      <td>1970</td>\n",
       "      <td>306891.012076</td>\n",
       "    </tr>\n",
       "    <tr>\n",
       "      <th>3</th>\n",
       "      <td>2294</td>\n",
       "      <td>2</td>\n",
       "      <td>1</td>\n",
       "      <td>Urban</td>\n",
       "      <td>1996</td>\n",
       "      <td>206786.787153</td>\n",
       "    </tr>\n",
       "    <tr>\n",
       "      <th>4</th>\n",
       "      <td>2130</td>\n",
       "      <td>5</td>\n",
       "      <td>2</td>\n",
       "      <td>Suburb</td>\n",
       "      <td>2001</td>\n",
       "      <td>272436.239065</td>\n",
       "    </tr>\n",
       "  </tbody>\n",
       "</table>\n",
       "</div>"
      ],
      "text/plain": [
       "   SquareFeet  Bedrooms  Bathrooms Neighborhood  YearBuilt          Price\n",
       "0        2126         4          1        Rural       1969  215355.283618\n",
       "1        2459         3          2        Rural       1980  195014.221626\n",
       "2        1860         2          1       Suburb       1970  306891.012076\n",
       "3        2294         2          1        Urban       1996  206786.787153\n",
       "4        2130         5          2       Suburb       2001  272436.239065"
      ]
     },
     "execution_count": 2,
     "metadata": {},
     "output_type": "execute_result"
    }
   ],
   "source": [
    "df = pd.read_csv(\"housing_price_dataset.csv\") \n",
    "df.head()"
   ]
  },
  {
   "cell_type": "markdown",
   "id": "e04efb54-21ae-4185-a40b-e5754b9c0ce0",
   "metadata": {},
   "source": [
    "# 2. EDA (Разведочный анализ данных)"
   ]
  },
  {
   "cell_type": "code",
   "execution_count": 3,
   "id": "84e1d2a5-5609-4a3e-8cad-7cb3a53a9526",
   "metadata": {},
   "outputs": [
    {
     "name": "stdout",
     "output_type": "stream",
     "text": [
      "<class 'pandas.core.frame.DataFrame'>\n",
      "RangeIndex: 50000 entries, 0 to 49999\n",
      "Data columns (total 6 columns):\n",
      " #   Column        Non-Null Count  Dtype  \n",
      "---  ------        --------------  -----  \n",
      " 0   SquareFeet    50000 non-null  int64  \n",
      " 1   Bedrooms      50000 non-null  int64  \n",
      " 2   Bathrooms     50000 non-null  int64  \n",
      " 3   Neighborhood  50000 non-null  object \n",
      " 4   YearBuilt     50000 non-null  int64  \n",
      " 5   Price         50000 non-null  float64\n",
      "dtypes: float64(1), int64(4), object(1)\n",
      "memory usage: 2.3+ MB\n"
     ]
    }
   ],
   "source": [
    "df.info()"
   ]
  },
  {
   "cell_type": "markdown",
   "id": "a7a19d2c-a080-40fd-94c2-e7a28c97c1bb",
   "metadata": {},
   "source": [
    "Датасет содержит 50000 записей и не имеет пропусков. Но есть признак типа object."
   ]
  },
  {
   "cell_type": "code",
   "execution_count": 4,
   "id": "ef07e6c8-e741-405a-9f13-34f5a6911ce0",
   "metadata": {},
   "outputs": [
    {
     "data": {
      "text/plain": [
       "Neighborhood\n",
       "Suburb    16721\n",
       "Rural     16676\n",
       "Urban     16603\n",
       "Name: count, dtype: int64"
      ]
     },
     "execution_count": 4,
     "metadata": {},
     "output_type": "execute_result"
    }
   ],
   "source": [
    "df.Neighborhood.value_counts()"
   ]
  },
  {
   "cell_type": "markdown",
   "id": "aef11b90-2c4b-4574-8f2c-2685e2f78186",
   "metadata": {},
   "source": [
    "В признаке Neighborhood немного уникальных значение. Закодируем позже с помощью LabelEncoder"
   ]
  },
  {
   "cell_type": "code",
   "execution_count": 5,
   "id": "cda4980e-c5a8-4ca4-8ec9-504f61783110",
   "metadata": {},
   "outputs": [
    {
     "data": {
      "text/html": [
       "<div>\n",
       "<style scoped>\n",
       "    .dataframe tbody tr th:only-of-type {\n",
       "        vertical-align: middle;\n",
       "    }\n",
       "\n",
       "    .dataframe tbody tr th {\n",
       "        vertical-align: top;\n",
       "    }\n",
       "\n",
       "    .dataframe thead th {\n",
       "        text-align: right;\n",
       "    }\n",
       "</style>\n",
       "<table border=\"1\" class=\"dataframe\">\n",
       "  <thead>\n",
       "    <tr style=\"text-align: right;\">\n",
       "      <th></th>\n",
       "      <th>count</th>\n",
       "      <th>mean</th>\n",
       "      <th>std</th>\n",
       "      <th>min</th>\n",
       "      <th>25%</th>\n",
       "      <th>50%</th>\n",
       "      <th>75%</th>\n",
       "      <th>max</th>\n",
       "    </tr>\n",
       "  </thead>\n",
       "  <tbody>\n",
       "    <tr>\n",
       "      <th>SquareFeet</th>\n",
       "      <td>50000.0</td>\n",
       "      <td>2006.374680</td>\n",
       "      <td>575.513241</td>\n",
       "      <td>1000.000000</td>\n",
       "      <td>1513.000000</td>\n",
       "      <td>2007.000000</td>\n",
       "      <td>2506.000000</td>\n",
       "      <td>2999.000000</td>\n",
       "    </tr>\n",
       "    <tr>\n",
       "      <th>Bedrooms</th>\n",
       "      <td>50000.0</td>\n",
       "      <td>3.498700</td>\n",
       "      <td>1.116326</td>\n",
       "      <td>2.000000</td>\n",
       "      <td>3.000000</td>\n",
       "      <td>3.000000</td>\n",
       "      <td>4.000000</td>\n",
       "      <td>5.000000</td>\n",
       "    </tr>\n",
       "    <tr>\n",
       "      <th>Bathrooms</th>\n",
       "      <td>50000.0</td>\n",
       "      <td>1.995420</td>\n",
       "      <td>0.815851</td>\n",
       "      <td>1.000000</td>\n",
       "      <td>1.000000</td>\n",
       "      <td>2.000000</td>\n",
       "      <td>3.000000</td>\n",
       "      <td>3.000000</td>\n",
       "    </tr>\n",
       "    <tr>\n",
       "      <th>YearBuilt</th>\n",
       "      <td>50000.0</td>\n",
       "      <td>1985.404420</td>\n",
       "      <td>20.719377</td>\n",
       "      <td>1950.000000</td>\n",
       "      <td>1967.000000</td>\n",
       "      <td>1985.000000</td>\n",
       "      <td>2003.000000</td>\n",
       "      <td>2021.000000</td>\n",
       "    </tr>\n",
       "    <tr>\n",
       "      <th>Price</th>\n",
       "      <td>50000.0</td>\n",
       "      <td>224827.325151</td>\n",
       "      <td>76141.842966</td>\n",
       "      <td>-36588.165397</td>\n",
       "      <td>169955.860225</td>\n",
       "      <td>225052.141166</td>\n",
       "      <td>279373.630052</td>\n",
       "      <td>492195.259972</td>\n",
       "    </tr>\n",
       "  </tbody>\n",
       "</table>\n",
       "</div>"
      ],
      "text/plain": [
       "              count           mean           std           min            25%  \\\n",
       "SquareFeet  50000.0    2006.374680    575.513241   1000.000000    1513.000000   \n",
       "Bedrooms    50000.0       3.498700      1.116326      2.000000       3.000000   \n",
       "Bathrooms   50000.0       1.995420      0.815851      1.000000       1.000000   \n",
       "YearBuilt   50000.0    1985.404420     20.719377   1950.000000    1967.000000   \n",
       "Price       50000.0  224827.325151  76141.842966 -36588.165397  169955.860225   \n",
       "\n",
       "                      50%            75%            max  \n",
       "SquareFeet    2007.000000    2506.000000    2999.000000  \n",
       "Bedrooms         3.000000       4.000000       5.000000  \n",
       "Bathrooms        2.000000       3.000000       3.000000  \n",
       "YearBuilt     1985.000000    2003.000000    2021.000000  \n",
       "Price       225052.141166  279373.630052  492195.259972  "
      ]
     },
     "execution_count": 5,
     "metadata": {},
     "output_type": "execute_result"
    }
   ],
   "source": [
    "df.describe().T"
   ]
  },
  {
   "cell_type": "markdown",
   "id": "902d36ec-6c08-4ce8-ad99-f0e8de35e9a4",
   "metadata": {},
   "source": [
    "Очень сильно выделяется признак Price на фоне остальных. Подозрение на выбросы."
   ]
  },
  {
   "cell_type": "code",
   "execution_count": 6,
   "id": "b7e5b3d6-20fd-42f0-84f5-4aaae8ebf001",
   "metadata": {},
   "outputs": [
    {
     "data": {
      "text/plain": [
       "Text(0.5, 1.0, 'Column: Price')"
      ]
     },
     "execution_count": 6,
     "metadata": {},
     "output_type": "execute_result"
    },
    {
     "data": {
      "image/png": "[encoded data removed]",
      "text/plain": [
       "<Figure size 1000x1000 with 1 Axes>"
      ]
     },
     "metadata": {},
     "output_type": "display_data"
    }
   ],
   "source": [
    "plt.figure(figsize=(10,10))\n",
    "plt.boxplot(df.Price)\n",
    "plt.title('Column: Price')"
   ]
  },
  {
   "cell_type": "markdown",
   "id": "3644aebc-474a-498d-912e-7b7c7a1768d1",
   "metadata": {},
   "source": [
    "По итогу присутствуют выбросы. Цена отрицательная? Получается нам платят за то, что мы оформляем на себя участок. Ребята, я пошёл делать деньги😂"
   ]
  },
  {
   "cell_type": "code",
   "execution_count": 7,
   "id": "1d61d0f8-a3b0-4b70-bd64-d71fa69b21c5",
   "metadata": {},
   "outputs": [
    {
     "data": {
      "text/plain": [
       "<Axes: >"
      ]
     },
     "execution_count": 7,
     "metadata": {},
     "output_type": "execute_result"
    },
    {
     "data": {
      "image/png": "[encoded data removed]",
      "text/plain": [
       "<Figure size 640x480 with 2 Axes>"
      ]
     },
     "metadata": {},
     "output_type": "display_data"
    }
   ],
   "source": [
    "sns.heatmap(df.drop('Neighborhood', axis=1).corr(), annot=True)"
   ]
  },
  {
   "cell_type": "markdown",
   "id": "294171a5-7060-466c-b6c2-9f2400352fa5",
   "metadata": {},
   "source": [
    "Можно заметить, что признаки между собой слабо коррелируют. На целевой признак очень сильно влияет признак SquareFeet"
   ]
  },
  {
   "cell_type": "code",
   "execution_count": 8,
   "id": "ebf6d4f9-0dfc-4e16-82b4-1dafbbc33792",
   "metadata": {},
   "outputs": [
    {
     "name": "stdout",
     "output_type": "stream",
     "text": [
      "Количество домов с одинаковыми параметрами, но разной стоимостью: 461\n"
     ]
    },
    {
     "data": {
      "text/html": [
       "<div>\n",
       "<style scoped>\n",
       "    .dataframe tbody tr th:only-of-type {\n",
       "        vertical-align: middle;\n",
       "    }\n",
       "\n",
       "    .dataframe tbody tr th {\n",
       "        vertical-align: top;\n",
       "    }\n",
       "\n",
       "    .dataframe thead th {\n",
       "        text-align: right;\n",
       "    }\n",
       "</style>\n",
       "<table border=\"1\" class=\"dataframe\">\n",
       "  <thead>\n",
       "    <tr style=\"text-align: right;\">\n",
       "      <th></th>\n",
       "      <th>SquareFeet</th>\n",
       "      <th>Bedrooms</th>\n",
       "      <th>Bathrooms</th>\n",
       "      <th>Neighborhood</th>\n",
       "      <th>YearBuilt</th>\n",
       "      <th>Price</th>\n",
       "    </tr>\n",
       "  </thead>\n",
       "  <tbody>\n",
       "    <tr>\n",
       "      <th>38621</th>\n",
       "      <td>1020</td>\n",
       "      <td>2</td>\n",
       "      <td>2</td>\n",
       "      <td>Suburb</td>\n",
       "      <td>1963</td>\n",
       "      <td>132662.437768</td>\n",
       "    </tr>\n",
       "    <tr>\n",
       "      <th>40114</th>\n",
       "      <td>1020</td>\n",
       "      <td>2</td>\n",
       "      <td>2</td>\n",
       "      <td>Suburb</td>\n",
       "      <td>1963</td>\n",
       "      <td>152360.276197</td>\n",
       "    </tr>\n",
       "    <tr>\n",
       "      <th>19765</th>\n",
       "      <td>1022</td>\n",
       "      <td>4</td>\n",
       "      <td>1</td>\n",
       "      <td>Urban</td>\n",
       "      <td>1955</td>\n",
       "      <td>125182.921855</td>\n",
       "    </tr>\n",
       "    <tr>\n",
       "      <th>30579</th>\n",
       "      <td>1022</td>\n",
       "      <td>4</td>\n",
       "      <td>1</td>\n",
       "      <td>Urban</td>\n",
       "      <td>1955</td>\n",
       "      <td>189550.528832</td>\n",
       "    </tr>\n",
       "    <tr>\n",
       "      <th>44058</th>\n",
       "      <td>1024</td>\n",
       "      <td>2</td>\n",
       "      <td>2</td>\n",
       "      <td>Suburb</td>\n",
       "      <td>2005</td>\n",
       "      <td>62628.424230</td>\n",
       "    </tr>\n",
       "    <tr>\n",
       "      <th>6383</th>\n",
       "      <td>1024</td>\n",
       "      <td>2</td>\n",
       "      <td>2</td>\n",
       "      <td>Suburb</td>\n",
       "      <td>2005</td>\n",
       "      <td>134253.856692</td>\n",
       "    </tr>\n",
       "    <tr>\n",
       "      <th>39633</th>\n",
       "      <td>1026</td>\n",
       "      <td>5</td>\n",
       "      <td>1</td>\n",
       "      <td>Suburb</td>\n",
       "      <td>2007</td>\n",
       "      <td>161247.797257</td>\n",
       "    </tr>\n",
       "    <tr>\n",
       "      <th>16844</th>\n",
       "      <td>1026</td>\n",
       "      <td>5</td>\n",
       "      <td>1</td>\n",
       "      <td>Suburb</td>\n",
       "      <td>2007</td>\n",
       "      <td>191654.759737</td>\n",
       "    </tr>\n",
       "    <tr>\n",
       "      <th>30423</th>\n",
       "      <td>1043</td>\n",
       "      <td>5</td>\n",
       "      <td>3</td>\n",
       "      <td>Rural</td>\n",
       "      <td>1978</td>\n",
       "      <td>115183.430539</td>\n",
       "    </tr>\n",
       "    <tr>\n",
       "      <th>48076</th>\n",
       "      <td>1043</td>\n",
       "      <td>5</td>\n",
       "      <td>3</td>\n",
       "      <td>Rural</td>\n",
       "      <td>1978</td>\n",
       "      <td>128904.872768</td>\n",
       "    </tr>\n",
       "    <tr>\n",
       "      <th>3049</th>\n",
       "      <td>1049</td>\n",
       "      <td>3</td>\n",
       "      <td>3</td>\n",
       "      <td>Suburb</td>\n",
       "      <td>1988</td>\n",
       "      <td>133669.985148</td>\n",
       "    </tr>\n",
       "    <tr>\n",
       "      <th>31907</th>\n",
       "      <td>1049</td>\n",
       "      <td>3</td>\n",
       "      <td>3</td>\n",
       "      <td>Suburb</td>\n",
       "      <td>1988</td>\n",
       "      <td>149061.777992</td>\n",
       "    </tr>\n",
       "    <tr>\n",
       "      <th>5288</th>\n",
       "      <td>1054</td>\n",
       "      <td>4</td>\n",
       "      <td>1</td>\n",
       "      <td>Rural</td>\n",
       "      <td>2002</td>\n",
       "      <td>120847.048990</td>\n",
       "    </tr>\n",
       "    <tr>\n",
       "      <th>10325</th>\n",
       "      <td>1054</td>\n",
       "      <td>4</td>\n",
       "      <td>1</td>\n",
       "      <td>Rural</td>\n",
       "      <td>2002</td>\n",
       "      <td>125169.666526</td>\n",
       "    </tr>\n",
       "    <tr>\n",
       "      <th>18842</th>\n",
       "      <td>1065</td>\n",
       "      <td>3</td>\n",
       "      <td>1</td>\n",
       "      <td>Rural</td>\n",
       "      <td>1983</td>\n",
       "      <td>61546.908605</td>\n",
       "    </tr>\n",
       "    <tr>\n",
       "      <th>48646</th>\n",
       "      <td>1065</td>\n",
       "      <td>3</td>\n",
       "      <td>1</td>\n",
       "      <td>Rural</td>\n",
       "      <td>1983</td>\n",
       "      <td>77778.877747</td>\n",
       "    </tr>\n",
       "    <tr>\n",
       "      <th>10390</th>\n",
       "      <td>1079</td>\n",
       "      <td>5</td>\n",
       "      <td>1</td>\n",
       "      <td>Suburb</td>\n",
       "      <td>2003</td>\n",
       "      <td>154004.186738</td>\n",
       "    </tr>\n",
       "    <tr>\n",
       "      <th>32486</th>\n",
       "      <td>1079</td>\n",
       "      <td>5</td>\n",
       "      <td>1</td>\n",
       "      <td>Suburb</td>\n",
       "      <td>2003</td>\n",
       "      <td>195326.299673</td>\n",
       "    </tr>\n",
       "    <tr>\n",
       "      <th>38607</th>\n",
       "      <td>1120</td>\n",
       "      <td>4</td>\n",
       "      <td>2</td>\n",
       "      <td>Suburb</td>\n",
       "      <td>2021</td>\n",
       "      <td>19226.182202</td>\n",
       "    </tr>\n",
       "    <tr>\n",
       "      <th>16092</th>\n",
       "      <td>1120</td>\n",
       "      <td>4</td>\n",
       "      <td>2</td>\n",
       "      <td>Suburb</td>\n",
       "      <td>2021</td>\n",
       "      <td>140800.661849</td>\n",
       "    </tr>\n",
       "  </tbody>\n",
       "</table>\n",
       "</div>"
      ],
      "text/plain": [
       "       SquareFeet  Bedrooms  Bathrooms Neighborhood  YearBuilt          Price\n",
       "38621        1020         2          2       Suburb       1963  132662.437768\n",
       "40114        1020         2          2       Suburb       1963  152360.276197\n",
       "19765        1022         4          1        Urban       1955  125182.921855\n",
       "30579        1022         4          1        Urban       1955  189550.528832\n",
       "44058        1024         2          2       Suburb       2005   62628.424230\n",
       "6383         1024         2          2       Suburb       2005  134253.856692\n",
       "39633        1026         5          1       Suburb       2007  161247.797257\n",
       "16844        1026         5          1       Suburb       2007  191654.759737\n",
       "30423        1043         5          3        Rural       1978  115183.430539\n",
       "48076        1043         5          3        Rural       1978  128904.872768\n",
       "3049         1049         3          3       Suburb       1988  133669.985148\n",
       "31907        1049         3          3       Suburb       1988  149061.777992\n",
       "5288         1054         4          1        Rural       2002  120847.048990\n",
       "10325        1054         4          1        Rural       2002  125169.666526\n",
       "18842        1065         3          1        Rural       1983   61546.908605\n",
       "48646        1065         3          1        Rural       1983   77778.877747\n",
       "10390        1079         5          1       Suburb       2003  154004.186738\n",
       "32486        1079         5          1       Suburb       2003  195326.299673\n",
       "38607        1120         4          2       Suburb       2021   19226.182202\n",
       "16092        1120         4          2       Suburb       2021  140800.661849"
      ]
     },
     "execution_count": 8,
     "metadata": {},
     "output_type": "execute_result"
    }
   ],
   "source": [
    "dublicate_data = df[df.drop('Price', axis=1).duplicated(keep=False)].sort_values(['SquareFeet', 'Bedrooms', 'Neighborhood', 'YearBuilt', 'Price'])\n",
    "print(f\"Количество домов с одинаковыми параметрами, но разной стоимостью: {dublicate_data.shape[0]}\")\n",
    "dublicate_data.head(20)"
   ]
  },
  {
   "cell_type": "markdown",
   "id": "f0ef1e65-3cbd-4212-be37-2e7ac6f58732",
   "metadata": {},
   "source": [
    "В датасете присутствуют одинаковые дома но по различной цене. "
   ]
  },
  {
   "cell_type": "markdown",
   "id": "eb79e777-532b-408f-a245-57b129222073",
   "metadata": {},
   "source": [
    "# 3. Обработка датасета."
   ]
  },
  {
   "cell_type": "code",
   "execution_count": 9,
   "id": "6abd18f5-23e1-4372-b8f2-a739e48986f3",
   "metadata": {},
   "outputs": [],
   "source": [
    "df.drop(df[df.Price <= 0].index, axis=0, inplace=True) # Удалим дома с отрицательной ценой"
   ]
  },
  {
   "cell_type": "code",
   "execution_count": 10,
   "id": "bbd911e5-6d88-4ba3-a9fc-2c3ec91a8ca5",
   "metadata": {},
   "outputs": [],
   "source": [
    "df.drop_duplicates(keep=False, inplace=True) # Удалим все записи содержащие дубликаты"
   ]
  },
  {
   "cell_type": "code",
   "execution_count": 11,
   "id": "e45e4cfc-fe07-4522-a347-c19152df3027",
   "metadata": {},
   "outputs": [
    {
     "data": {
      "text/html": [
       "<div>\n",
       "<style scoped>\n",
       "    .dataframe tbody tr th:only-of-type {\n",
       "        vertical-align: middle;\n",
       "    }\n",
       "\n",
       "    .dataframe tbody tr th {\n",
       "        vertical-align: top;\n",
       "    }\n",
       "\n",
       "    .dataframe thead th {\n",
       "        text-align: right;\n",
       "    }\n",
       "</style>\n",
       "<table border=\"1\" class=\"dataframe\">\n",
       "  <thead>\n",
       "    <tr style=\"text-align: right;\">\n",
       "      <th></th>\n",
       "      <th>SquareFeet</th>\n",
       "      <th>Bedrooms</th>\n",
       "      <th>Bathrooms</th>\n",
       "      <th>Neighborhood</th>\n",
       "      <th>YearBuilt</th>\n",
       "      <th>Price</th>\n",
       "    </tr>\n",
       "  </thead>\n",
       "  <tbody>\n",
       "    <tr>\n",
       "      <th>0</th>\n",
       "      <td>2126</td>\n",
       "      <td>4</td>\n",
       "      <td>1</td>\n",
       "      <td>0</td>\n",
       "      <td>1969</td>\n",
       "      <td>215355.283618</td>\n",
       "    </tr>\n",
       "    <tr>\n",
       "      <th>1</th>\n",
       "      <td>2459</td>\n",
       "      <td>3</td>\n",
       "      <td>2</td>\n",
       "      <td>0</td>\n",
       "      <td>1980</td>\n",
       "      <td>195014.221626</td>\n",
       "    </tr>\n",
       "    <tr>\n",
       "      <th>2</th>\n",
       "      <td>1860</td>\n",
       "      <td>2</td>\n",
       "      <td>1</td>\n",
       "      <td>1</td>\n",
       "      <td>1970</td>\n",
       "      <td>306891.012076</td>\n",
       "    </tr>\n",
       "    <tr>\n",
       "      <th>3</th>\n",
       "      <td>2294</td>\n",
       "      <td>2</td>\n",
       "      <td>1</td>\n",
       "      <td>2</td>\n",
       "      <td>1996</td>\n",
       "      <td>206786.787153</td>\n",
       "    </tr>\n",
       "    <tr>\n",
       "      <th>4</th>\n",
       "      <td>2130</td>\n",
       "      <td>5</td>\n",
       "      <td>2</td>\n",
       "      <td>1</td>\n",
       "      <td>2001</td>\n",
       "      <td>272436.239065</td>\n",
       "    </tr>\n",
       "  </tbody>\n",
       "</table>\n",
       "</div>"
      ],
      "text/plain": [
       "   SquareFeet  Bedrooms  Bathrooms  Neighborhood  YearBuilt          Price\n",
       "0        2126         4          1             0       1969  215355.283618\n",
       "1        2459         3          2             0       1980  195014.221626\n",
       "2        1860         2          1             1       1970  306891.012076\n",
       "3        2294         2          1             2       1996  206786.787153\n",
       "4        2130         5          2             1       2001  272436.239065"
      ]
     },
     "execution_count": 11,
     "metadata": {},
     "output_type": "execute_result"
    }
   ],
   "source": [
    "df.Neighborhood = LabelEncoder().fit_transform(df.Neighborhood) # Закодируем признак Neighborhood\n",
    "df.head()"
   ]
  },
  {
   "cell_type": "markdown",
   "id": "c30f442f-d3a7-4b17-b6af-aa987fe139d1",
   "metadata": {},
   "source": [
    "# 4. Формирование выборок и обучение моделей"
   ]
  },
  {
   "cell_type": "code",
   "execution_count": 12,
   "id": "48be1975-9b97-42c7-9e99-0c31ea9abd7b",
   "metadata": {},
   "outputs": [],
   "source": [
    "X_train, X_test, y_train, y_test = train_test_split(df.drop(\"Price\", axis=1), df.Price, \n",
    "                                                    test_size=0.2, random_state=42)"
   ]
  },
  {
   "cell_type": "code",
   "execution_count": 13,
   "id": "bb62cd9b-93bc-459f-8fc4-ae63f00a9aaa",
   "metadata": {},
   "outputs": [],
   "source": [
    "models = [\n",
    "    MLPRegressor(),\n",
    "    XGBRegressor(),\n",
    "    LinearRegression(),\n",
    "    RandomForestRegressor(),\n",
    "    KNeighborsRegressor()\n",
    "]"
   ]
  },
  {
   "cell_type": "code",
   "execution_count": 14,
   "id": "4aefe1a5-f0ad-4909-bf5c-67be58bd6dd7",
   "metadata": {
    "scrolled": true
   },
   "outputs": [
    {
     "name": "stdout",
     "output_type": "stream",
     "text": [
      "MLPRegressor                  : R2_score: 0.5746426707498735, RMSE: 49635.105175\n",
      "XGBRegressor                  : R2_score: 0.5581297376328026, RMSE: 50589.381945\n",
      "LinearRegression              : R2_score: 0.5778358738000487, RMSE: 49448.446171\n",
      "RandomForestRegressor         : R2_score: 0.5227804521767397, RMSE: 52574.009429\n",
      "KNeighborsRegressor           : R2_score: 0.4897118054741789, RMSE: 54365.044366\n",
      "--------------------------------------------------------------------------------------------\n",
      "LinearRegression              : R2_score: 0.5778358738000487, RMSE: 49448.446171\n"
     ]
    }
   ],
   "source": [
    "best_model = None # Лучшая модель\n",
    "best_score = None # Точность у лучшей модели\n",
    "best_loss = None # Ошибка у лучшей модели\n",
    "for clf in models:\n",
    "    clf.fit(X_train, y_train) \n",
    "    y_pred = clf.predict(X_test)\n",
    "\n",
    "    # Высчитываем метрики\n",
    "    r2 = r2_score(y_test, y_pred)\n",
    "    rmse = mean_squared_error(y_test, y_pred, squared=False)\n",
    "    print(f\"{clf.__class__.__name__:30}: R2_score: {r2:17}, RMSE: {round(rmse, 6):10}\")\n",
    "\n",
    "    # Проверям на лучшую модель\n",
    "    if best_loss != None:\n",
    "        if best_loss > rmse:\n",
    "            best_model = clf\n",
    "            best_score = r2\n",
    "            best_loss = rmse\n",
    "    else:\n",
    "        best_model = clf\n",
    "        best_score = r2\n",
    "        best_loss = rmse\n",
    "\n",
    "# Выводим лучшую модель\n",
    "print(\"-\"*92)\n",
    "print(f\"{best_model.__class__.__name__:30}: R2_score: {best_score}, RMSE: {round(best_loss, 6):10}\")"
   ]
  },
  {
   "cell_type": "markdown",
   "id": "e88deb69-2b57-4f71-8eaa-6157ce4fd8b6",
   "metadata": {},
   "source": [
    "По итогу обучения моделей \"из коробки\" модель LinearRegression показала лучший результат.."
   ]
  },
  {
   "cell_type": "markdown",
   "id": "f8dcc295-d92a-482a-ba7a-3d8b315533e8",
   "metadata": {},
   "source": [
    "# 5. Подбор гиперпараметров у моделей."
   ]
  },
  {
   "cell_type": "code",
   "execution_count": 15,
   "id": "8b601b75-4f07-4c52-9e83-6a05c2e9bc0b",
   "metadata": {},
   "outputs": [],
   "source": [
    "model_params = {\n",
    "    'KNeighborsRegressor' : {\n",
    "        'model': KNeighborsRegressor(),\n",
    "        'params': {\n",
    "            'n_neighbors': [1,3,5,7,10,12,16,17,20,21,25,30,35,40,42,44,48,50,55,59,60]\n",
    "        }\n",
    "    },\n",
    "    'XGBRegressor' : {\n",
    "        'model': XGBRegressor(),\n",
    "        'params': {\n",
    "            'max_depth': range(3,18),\n",
    "            'gamma': range(1,9),\n",
    "            'reg_alpha' : range(40,180,40),\n",
    "            'reg_lambda' : range(0,1)\n",
    "        }\n",
    "    },\n",
    "    'MLPRegressor' : {\n",
    "        'model': MLPRegressor(),\n",
    "        'params': {\n",
    "            \"activation\": [\"identity\", \"logistic\", \"tanh\", \"relu\"], \n",
    "            \"solver\": [\"lbfgs\", \"sgd\", \"adam\"], \n",
    "            \"alpha\": [0.00005,0.0005]\n",
    "        }\n",
    "    },\n",
    "    'RandomForestRegressor': {\n",
    "        'model': RandomForestRegressor(),\n",
    "        'params' : {\n",
    "            'n_estimators': [60,100,300,500,700]\n",
    "        }\n",
    "    },\n",
    "}"
   ]
  },
  {
   "cell_type": "code",
   "execution_count": 16,
   "id": "eee4374d-0ea0-4c7f-a448-ee2cceea1911",
   "metadata": {},
   "outputs": [
    {
     "name": "stdout",
     "output_type": "stream",
     "text": [
      "KNeighborsRegressor           : R2_score: 0.5659196632792411, RMSE: 50141.46779\n",
      "XGBRegressor                  : R2_score: 0.5757246771972946, RMSE: 49571.935109\n",
      "MLPRegressor                  : R2_score: 0.5778457886837287, RMSE: 49447.865498\n",
      "RandomForestRegressor         : R2_score: 0.5274378171087108, RMSE: 52316.835667\n",
      "--------------------------------------------------------------------------------------------\n",
      "MLPRegressor                  : R2_score: 0.5778457886837287, RMSE: 49447.865498\n"
     ]
    }
   ],
   "source": [
    "for model_name, mp in model_params.items():\n",
    "    clf =  GridSearchCV(mp['model'], mp['params'], cv=3, return_train_score=False)\n",
    "    clf.fit(X_train, y_train)\n",
    "    y_pred = clf.predict(X_test)\n",
    "\n",
    "    # Высчитываем метрики\n",
    "    r2 = r2_score(y_test, y_pred)\n",
    "    rmse = mean_squared_error(y_test, y_pred, squared=False)\n",
    "    print(f\"{model_name:30}: R2_score: {r2:17}, RMSE: {round(rmse, 6):10}\")\n",
    "\n",
    "    # Проверям на лучшую модель\n",
    "    if best_loss != None:\n",
    "        if best_loss > rmse:\n",
    "            best_model = clf.best_estimator_\n",
    "            best_score = r2\n",
    "            best_loss = rmse\n",
    "    else:\n",
    "        best_model = clf.best_estimator_\n",
    "        best_score = r2\n",
    "        best_loss = rmse\n",
    "\n",
    "# Выводим лучшую модель\n",
    "print(\"-\"*92)\n",
    "print(f\"{best_model.__class__.__name__:30}: R2_score: {best_score}, RMSE: {round(best_loss, 6):10}\")"
   ]
  },
  {
   "cell_type": "markdown",
   "id": "705e889b-66f3-42df-8065-bd6c9d5b2036",
   "metadata": {},
   "source": [
    "После подбора гиперпараметров модель MLPRegressor показа наилучшую точность среди всех моделей."
   ]
  }
 ],
 "metadata": {
  "kernelspec": {
   "display_name": "Python 3 (ipykernel)",
   "language": "python",
   "name": "python3"
  },
  "language_info": {
   "codemirror_mode": {
    "name": "ipython",
    "version": 3
   },
   "file_extension": ".py",
   "mimetype": "text/x-python",
   "name": "python",
   "nbconvert_exporter": "python",
   "pygments_lexer": "ipython3",
   "version": "3.11.5"
  }
 },
 "nbformat": 4,
 "nbformat_minor": 5
}
